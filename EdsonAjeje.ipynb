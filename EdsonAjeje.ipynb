{
 "cells": [
  {
   "cell_type": "markdown",
   "metadata": {},
   "source": [
    "## **Projeto de Visualização da Informação**\n",
    "\n",
    "##### **Nome**: Edson Rodrigues Ajeje\n",
    "##### **RGM**: 31995519\n",
    "##### **Instituição**: Universidade Cruzeiro do Sul\n",
    "##### **Curso**: Ciência da Computação\n",
    "\n",
    "##### **Link do dataset utilizado**:\n",
    "https://www.kaggle.com/competitions/fake-news/overview\n",
    "\n",
    "##### **Link do vídeo de apresentação**:"
   ]
  },
  {
   "cell_type": "markdown",
   "metadata": {},
   "source": [
    "### Primeira Visualização\n",
    "\n",
    "**Núvem de palavras com os títulos das notícias**"
   ]
  },
  {
   "cell_type": "code",
   "execution_count": null,
   "metadata": {},
   "outputs": [],
   "source": [
    "# Caso ainda não tenha instado as bibliotecas pode utilizar os comandos abaixo\n",
    "# !pip install WordCloud\n",
    "# !pip install pandas\n",
    "# !pip install numpy\n",
    "# !pip install matplotlib\n",
    "# !pip install PIL\n",
    "# !pip install nltk"
   ]
  }
 ],
 "metadata": {
  "kernelspec": {
   "display_name": "Python 3",
   "language": "python",
   "name": "python3"
  },
  "language_info": {
   "name": "python",
   "version": "3.7.6"
  }
 },
 "nbformat": 4,
 "nbformat_minor": 2
}
